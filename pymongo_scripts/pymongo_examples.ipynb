{
 "cells": [
  {
   "cell_type": "markdown",
   "metadata": {
    "collapsed": true,
    "pycharm": {
     "name": "#%% md\n"
    }
   },
   "source": [
    "# Basic database in MongoDB using PyMongo\n",
    "**Author**: Edwin Barahona | July 2021\n",
    "\n",
    "---\n",
    "\n",
    "## Introduction\n",
    "\n",
    "In this notebook I am presenting a series of exercises for MongoDB using Python.\n",
    "\n",
    "**Level**: Intermediate\n",
    "\n",
    "**Topics**:\n",
    "* Data import\n",
    "* Basic queries\n",
    "* Aggregate functions\n",
    "    * Count\n",
    "    * gt, gte\n",
    "    * lt, lte\n",
    "    * sort\n",
    "* Pipelines\n",
    "    * match, group, redact\n",
    "\n",
    "**Prerequisites**:\n",
    "* **MongoDB 4.4** - *Locally installed or mongodb atlas*\n",
    "* **PyMongo** and **bson** libraries\n",
    "\n",
    "**Assumptions**:\n",
    "* You have basic knowledge of both Python and Mongodb\n",
    "\n",
    "**References**:\n",
    "\n",
    "MongoDB documentation : https://docs.mongodb.com/manual/tutorial/getting-started/\n",
    "PyMongo documentation : https://pymongo.readthedocs.io/en/stable/api/index.html\n",
    "MongoDB Atlas: https://www.mongodb.com/atlas/database"
   ]
  },
  {
   "cell_type": "markdown",
   "source": [
    "## Part 1: Import data\n",
    "\n",
    "In this part we will initialize the mongodb client, create a database and collection and\n",
    "import data from two JSON files"
   ],
   "metadata": {
    "collapsed": false
   }
  },
  {
   "cell_type": "code",
   "source": [
    "# Import bson and pymongo\n",
    "\n",
    "from bson import json_util\n",
    "from pymongo import MongoClient"
   ],
   "metadata": {
    "collapsed": false,
    "pycharm": {
     "name": "#%%\n"
    }
   },
   "execution_count": null,
   "outputs": []
  },
  {
   "cell_type": "code",
   "execution_count": null,
   "outputs": [],
   "source": [
    "# set the json documents path\n",
    "\n",
    "books_path = 'resources/act-2-books.json'\n",
    "companies_path = 'resources/act-2-companies.json'"
   ],
   "metadata": {
    "collapsed": false,
    "pycharm": {
     "name": "#%%\n"
    }
   }
  },
  {
   "cell_type": "code",
   "execution_count": null,
   "outputs": [],
   "source": [
    "# Now we load the json content using json_util.loads\n",
    "\n",
    "books = []\n",
    "with open(books_path, 'r') as jlist:\n",
    "    for line in jlist:\n",
    "        books.append(json_util.loads(line))\n",
    "\n",
    "companies = []\n",
    "with open(companies_path, 'r', encoding='utf-8') as jlist:\n",
    "    for line in jlist:\n",
    "        companies.append(json_util.loads(line))"
   ],
   "metadata": {
    "collapsed": false,
    "pycharm": {
     "name": "#%%\n"
    }
   }
  },
  {
   "cell_type": "code",
   "execution_count": null,
   "outputs": [],
   "source": [
    "# Start mongodb client\n",
    "client = MongoClient('localhost', 27017) # for this example mongo was installed locally\n",
    "\n",
    "# In this step we define a db called 'misc' and two collections 'books' and 'companies'\n",
    "db = client.misc\n",
    "books_col = db.books\n",
    "companies_col = db.companies\n",
    "\n",
    "# Load the data to mongo using insert_many\n",
    "books_col.insert_many(books)\n",
    "companies_col.insert_many(companies)"
   ],
   "metadata": {
    "collapsed": false,
    "pycharm": {
     "name": "#%%\n"
    }
   }
  },
  {
   "cell_type": "markdown",
   "source": [
    "## Part 2: Basic read operations\n",
    "\n",
    "In this part we are performing basic read operations to our recently created database"
   ],
   "metadata": {
    "collapsed": false
   }
  },
  {
   "cell_type": "code",
   "execution_count": null,
   "outputs": [],
   "source": [
    "# import pprint to call the 'pretty print' this is used for display purposes\n",
    "\n",
    "import pprint\n",
    "\n",
    "# Print a sample element from the 'books' collection\n",
    "pprint.pprint(books_col.find_one())\n",
    "\n",
    "# Print a sample element from the 'companies' collection\n",
    "pprint.pprint(companies_col.find_one())"
   ],
   "metadata": {
    "collapsed": false,
    "pycharm": {
     "name": "#%%\n"
    }
   }
  },
  {
   "cell_type": "code",
   "execution_count": null,
   "outputs": [],
   "source": [
    "# Print the unique categories in the 'books' collection\n",
    "print('Unique categories: ')\n",
    "pprint.pprint(books_col.distinct('categories'))\n",
    "\n",
    "# Print the unique statuses in the 'books collection\n",
    "print('\\nUnique statuses: ')\n",
    "pprint.pprint(books_col.distinct('status'))"
   ],
   "metadata": {
    "collapsed": false,
    "pycharm": {
     "name": "#%%\n"
    }
   }
  },
  {
   "cell_type": "code",
   "execution_count": null,
   "outputs": [],
   "source": [
    "# show the records with longDescription starting with the letter A\n",
    "# display only title and longDescription fields\n",
    "for record in books_col.find(\n",
    "        {\"longDescription\": {\"$gte\": \"A\", \"$lt\": \"B\"}},\n",
    "        {\"title\": 1, \"longDescription\": 1}):\n",
    "    pprint.pprint(record)\n",
    "\n",
    "# Find the books that have exactly 2 authors and are published, show only the fields\n",
    "# title, longDescription, status and authors\n",
    "for record in books_col.find({\"authors\": {\"$size\": 2}, \"status\": \"PUBLISH\"},\n",
    "        {\"_id\": 0, \"title\": 1, \"longDescription\": 1, \"status\":1, \"authors\":1}):\n",
    "    pprint.pprint(record)"
   ],
   "metadata": {
    "collapsed": false,
    "pycharm": {
     "name": "#%%\n"
    }
   }
  },
  {
   "cell_type": "markdown",
   "source": [
    "## Part 3: Advanced reading operations\n",
    "\n",
    "### Collection Stats"
   ],
   "metadata": {
    "collapsed": false
   }
  },
  {
   "cell_type": "code",
   "execution_count": null,
   "outputs": [],
   "source": [
    "# Print the size and count of elements in the collection books\n",
    "\n",
    "stats = db.command('collstats','books')\n",
    "pprint.pprint(stats['size'])\n",
    "pprint.pprint(stats['count'])\n",
    "\n",
    "# Print the size and count of elements in the collection companies\n",
    "\n",
    "stats = db.command('collstats','companies')\n",
    "pprint.pprint(stats['size'])\n",
    "pprint.pprint(stats['count'])"
   ],
   "metadata": {
    "collapsed": false,
    "pycharm": {
     "name": "#%%\n"
    }
   }
  },
  {
   "cell_type": "markdown",
   "source": [
    "### Aggregate functions\n",
    "#### *Count, gt, gte, lte*"
   ],
   "metadata": {
    "collapsed": false
   }
  },
  {
   "cell_type": "code",
   "execution_count": null,
   "outputs": [],
   "source": [
    "# books with more than 200 pages\n",
    "pprint.pprint(books_col.count_documents({\"pageCount\": {\"$gt\": 200}}))\n",
    "# books with page count between 300 and 600\n",
    "pprint.pprint(books_col.count_documents({\"pageCount\": {\"$gte\": 300, \"$lte\":600}}))\n",
    "# books with 0 pages\n",
    "pprint.pprint(books_col.count_documents({\"pageCount\": 0}))\n",
    "# books with at least 1 page\n",
    "pprint.pprint(books_col.count_documents({\"pageCount\": {\"$gt\": 0}}))\n",
    "# books with status publish\n",
    "pprint.pprint(books_col.count_documents({\"status\": \"PUBLISH\"}))\n",
    "# books with status meap\n",
    "pprint.pprint(books_col.count_documents({\"status\": \"MEAP\"}))"
   ],
   "metadata": {
    "collapsed": false,
    "pycharm": {
     "name": "#%%\n"
    }
   }
  },
  {
   "cell_type": "markdown",
   "source": [
    "#### *Or* function, *And* function"
   ],
   "metadata": {
    "collapsed": false,
    "pycharm": {
     "name": "#%% md\n"
    }
   }
  },
  {
   "cell_type": "code",
   "execution_count": null,
   "outputs": [],
   "source": [
    "# find companies with  category code web o mobile\n",
    "for document in companies_col.find(\n",
    "        {\"$or\": [{\"category_code\": \"web\"}, {\"category_code\": \"mobile\"}]},\n",
    "        {\"name\": 1, \"category_code\": 1, \"number_of_employees\": 1, \"founded_year\": 1}):\n",
    "    pprint.pprint(document)"
   ],
   "metadata": {
    "collapsed": false,
    "pycharm": {
     "name": "#%%\n"
    }
   }
  },
  {
   "cell_type": "code",
   "execution_count": null,
   "outputs": [],
   "source": [
    "# list the url, twitter username and number of employees  of companies that dedicate to\n",
    "# videogames or music that were funded between 2001 and 2005\n",
    "for document in companies_col.find(\n",
    "        {\"$and\": [\n",
    "            {\"$or\": [{\"category_code\": \"games_video\"},\n",
    "                     {\"category_code\": \"music\"}]},\n",
    "            {\"founded_year\": {\"$gte\": 2000, \"$lte\": 2005}},\n",
    "            {\"number_of_employees\": {\"$gt\": 500}}]},\n",
    "        {\"_id\": 0, \"name\": 1, \"category_code\": 1, \"number_of_employees\": 1, \"founded_year\": 1, \"homepage_url\": 1, \"twitter_username\": 1}):\n",
    "    pprint.pprint(document)"
   ],
   "metadata": {
    "collapsed": false,
    "pycharm": {
     "name": "#%%\n"
    }
   }
  },
  {
   "cell_type": "code",
   "execution_count": null,
   "outputs": [],
   "source": [
    "# list the emails of the videogames companies that were acquired in 2007 with a price over 20 million USD\n",
    "# that have offices in Culver City\n",
    "for document in companies_col.find(\n",
    "        {\"$and\": [\n",
    "            {'category_code': 'games_video'},\n",
    "            {'acquisition.acquired_year': 2007},\n",
    "            {'acquisition.price_amount': {'$gte': 20000000}},\n",
    "            {'offices.city': 'Culver City'}]},\n",
    "        {\"_id\": 0, \"name\": 1, 'email_address': 1}):\n",
    "    pprint.pprint(document)"
   ],
   "metadata": {
    "collapsed": false,
    "pycharm": {
     "name": "#%%\n"
    }
   }
  },
  {
   "cell_type": "markdown",
   "source": [
    "#### *Sort*"
   ],
   "metadata": {
    "collapsed": false
   }
  },
  {
   "cell_type": "code",
   "execution_count": null,
   "outputs": [],
   "source": [
    "# find the companies that dedicate to videogames sort in descending order by the founding year\n",
    "for document in companies_col.find(\n",
    "        {\"category_code\": \"games_video\"},\n",
    "        {\"_id\": 0, \"name\": 1, \"category_code\": 1, \"founded_year\": 1}).sort(\"founded_year\", -1):\n",
    "    pprint.pprint(document)\n"
   ],
   "metadata": {
    "collapsed": false,
    "pycharm": {
     "name": "#%%\n"
    }
   }
  },
  {
   "cell_type": "markdown",
   "source": [
    "### Pipelines"
   ],
   "metadata": {
    "collapsed": false
   }
  },
  {
   "cell_type": "code",
   "execution_count": null,
   "outputs": [],
   "source": [
    "# List the companies with exactly 2 offices and both located in San Francisco\n",
    "pipeline = [{\"$match\": {\"offices\": {\"$elemMatch\": {\"city\": 'San Francisco'}}}},\n",
    "            {\"$group\": {\"_id\": \"$name\", \"san_francisco_offices\": {\"$sum\": 1}}},\n",
    "            {\"$redact\":  {\"$cond\": [{\"$gte\": ['$san_francisco_offices', 2]}, '$$KEEP', '$$PRUNE']}}]\n",
    "for record in companies_col.aggregate(pipeline):\n",
    "    pprint.pprint(record)\n"
   ],
   "metadata": {
    "collapsed": false,
    "pycharm": {
     "name": "#%%\n"
    }
   }
  }
 ],
 "metadata": {
  "kernelspec": {
   "display_name": "Python 3",
   "language": "python",
   "name": "python3"
  },
  "language_info": {
   "codemirror_mode": {
    "name": "ipython",
    "version": 2
   },
   "file_extension": ".py",
   "mimetype": "text/x-python",
   "name": "python",
   "nbconvert_exporter": "python",
   "pygments_lexer": "ipython2",
   "version": "2.7.6"
  }
 },
 "nbformat": 4,
 "nbformat_minor": 0
}